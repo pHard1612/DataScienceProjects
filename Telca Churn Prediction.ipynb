{
 "cells": [
  {
   "cell_type": "markdown",
   "id": "86d29b89",
   "metadata": {},
   "source": [
    "# Previsão de \"churn\" para clientes, utilizando o classificador Random Forest\n",
    "### O script a seguir é utilizado para demonstrar as habilidades técnicas quanto à utilização de machine learning para um problema de classificação, gozando de métodos para AEP, ML, Dataviz, Feature Engineering e Tunning com Grid Search\n",
    "\n",
    "#### Estou aberto à críticas, dicas etc!"
   ]
  },
  {
   "cell_type": "code",
   "execution_count": 1,
   "id": "08ede8bd",
   "metadata": {},
   "outputs": [],
   "source": [
    "# importando bibliotecas para importar os dados\n",
    "import pandas as pd"
   ]
  },
  {
   "cell_type": "markdown",
   "id": "ee102a5c",
   "metadata": {},
   "source": [
    "### --------------------------------------------------------------------------------------------------------------------------------------------------------\n",
    "### Análise Exploratória dos Dados\n",
    "### --------------------------------------------------------------------------------------------------------------------------------------------------------"
   ]
  },
  {
   "cell_type": "code",
   "execution_count": 2,
   "id": "be590718",
   "metadata": {},
   "outputs": [],
   "source": [
    "# importando a base de dados \"Telca Customer Churn\"\n",
    "df = pd.read_csv(r'C:\\Users\\pedro\\Desktop\\Geral\\Portfolio_Dados\\kaggle\\telco_customer_churn.csv',\n",
    "                sep = ',')"
   ]
  },
  {
   "cell_type": "code",
   "execution_count": 3,
   "id": "fd3edb9e",
   "metadata": {},
   "outputs": [
    {
     "name": "stdout",
     "output_type": "stream",
     "text": [
      "<class 'pandas.core.frame.DataFrame'>\n",
      "RangeIndex: 7043 entries, 0 to 7042\n",
      "Data columns (total 21 columns):\n",
      " #   Column            Non-Null Count  Dtype  \n",
      "---  ------            --------------  -----  \n",
      " 0   customerID        7043 non-null   object \n",
      " 1   gender            7043 non-null   object \n",
      " 2   SeniorCitizen     7043 non-null   int64  \n",
      " 3   Partner           7043 non-null   object \n",
      " 4   Dependents        7043 non-null   object \n",
      " 5   tenure            7043 non-null   int64  \n",
      " 6   PhoneService      7043 non-null   object \n",
      " 7   MultipleLines     7043 non-null   object \n",
      " 8   InternetService   7043 non-null   object \n",
      " 9   OnlineSecurity    7043 non-null   object \n",
      " 10  OnlineBackup      7043 non-null   object \n",
      " 11  DeviceProtection  7043 non-null   object \n",
      " 12  TechSupport       7043 non-null   object \n",
      " 13  StreamingTV       7043 non-null   object \n",
      " 14  StreamingMovies   7043 non-null   object \n",
      " 15  Contract          7043 non-null   object \n",
      " 16  PaperlessBilling  7043 non-null   object \n",
      " 17  PaymentMethod     7043 non-null   object \n",
      " 18  MonthlyCharges    7043 non-null   float64\n",
      " 19  TotalCharges      7043 non-null   object \n",
      " 20  Churn             7043 non-null   object \n",
      "dtypes: float64(1), int64(2), object(18)\n",
      "memory usage: 1.1+ MB\n"
     ]
    }
   ],
   "source": [
    "# explorando nosso dataset utilizando métodos do pandas\n",
    "df.size # total de registros do dataset\n",
    "df.shape # número de linhas e colunas, respectivamente\n",
    "df.info() # informações sobre colunas e seus tipos de dados"
   ]
  },
  {
   "cell_type": "code",
   "execution_count": 57,
   "id": "02271a9d",
   "metadata": {},
   "outputs": [],
   "source": [
    "# retornando os dados\n",
    "# df.head(10) # retorna os 10 primeiros registros\n",
    "# df.tail(10) # retorna os 10 últimos registros\n",
    "\n",
    "# verificando os nulos\n",
    "# df.isna().sum() # não temos nulos\n",
    "\n",
    "# convertendo a coluna \"TotalCharges\" para float64\n",
    "# df['TotalCharges'] = df['TotalCharges'].astype('float64') # retornou erro... a coluna em questão, possui, invés de NaN, um valor em branco\n",
    "\n",
    "# substituindo os valores em branco por NaN, usando numpy\n",
    "import numpy as np # importando o numpy\n",
    "df['TotalCharges'] = df['TotalCharges'].replace(' ', np.nan)\n",
    "\n",
    "# testando uma nova conversão, após feita a substituição dos valores em branco\n",
    "df['TotalCharges'] = df['TotalCharges'].astype('float64')\n",
    "\n",
    "# verificando o novo tipo da coluna 'TotalCharges'\n",
    "df['TotalCharges'].dtypes # agora a coluna é do tipo float64\n",
    "\n",
    "# verificando a coluna 'SeniorCitizen'\n",
    "df['SeniorCitizen'].unique() # a coluna em questão contém valores booleanos, porém, está categorizada como numérica\n",
    "\n",
    "# convertendo a coluna 'SeniorCitizen' para 'bool'\n",
    "df['SeniorCitizen'] = df['SeniorCitizen'].astype('bool')"
   ]
  },
  {
   "cell_type": "code",
   "execution_count": 58,
   "id": "e3e4278b",
   "metadata": {},
   "outputs": [
    {
     "name": "stdout",
     "output_type": "stream",
     "text": [
      "-----------------------------\n",
      "Numéricas:\n",
      "-----------------------------\n",
      "tenure : int64\n",
      "MonthlyCharges : float64\n",
      "TotalCharges : float64\n",
      "\n",
      "-----------------------------\n",
      "Categóricas:\n",
      "-----------------------------\n",
      "customerID : object\n",
      "gender : object\n",
      "Partner : object\n",
      "Dependents : object\n",
      "PhoneService : object\n",
      "MultipleLines : object\n",
      "InternetService : object\n",
      "OnlineSecurity : object\n",
      "OnlineBackup : object\n",
      "DeviceProtection : object\n",
      "TechSupport : object\n",
      "StreamingTV : object\n",
      "StreamingMovies : object\n",
      "Contract : object\n",
      "PaperlessBilling : object\n",
      "PaymentMethod : object\n",
      "Churn : object\n"
     ]
    }
   ],
   "source": [
    "# explorando as colunas e valores do nosso dataset\n",
    "# separando colunas por tipos (desconsiderando o customerID), a fim de facilitar a análise\n",
    "\n",
    "# Variáveis Numéricas\n",
    "colunas_numericas = []\n",
    "print('-----------------------------\\nNuméricas:\\n-----------------------------')\n",
    "for i in df.columns.tolist():\n",
    "    if df.dtypes[i] == 'int64' or df.dtypes[i] == 'float64':\n",
    "        print(i, ':', df.dtypes[i])\n",
    "        colunas_numericas.append(i)\n",
    "        \n",
    "# Variáveis Categóricas\n",
    "colunas_categoricas = []\n",
    "print('\\n-----------------------------\\nCategóricas:\\n-----------------------------')\n",
    "for i in df.columns.tolist():\n",
    "    if df.dtypes[i] == 'object':\n",
    "        print(i, ':', df.dtypes[i])\n",
    "        colunas_categoricas.append(i)"
   ]
  },
  {
   "cell_type": "markdown",
   "id": "c9a2255d",
   "metadata": {},
   "source": [
    "### --------------------------------------------------------------------------------------------------------------------------------------------------------\n",
    "### Explorando os dados através de visualizações\n",
    "### --------------------------------------------------------------------------------------------------------------------------------------------------------"
   ]
  },
  {
   "cell_type": "code",
   "execution_count": 59,
   "id": "0c41c81f",
   "metadata": {},
   "outputs": [],
   "source": [
    "# importando as bibliotecas Matplotlib e Seaborn\n",
    "import matplotlib.pyplot as plt\n",
    "import seaborn as sns"
   ]
  },
  {
   "cell_type": "code",
   "execution_count": 60,
   "id": "20e2a810",
   "metadata": {},
   "outputs": [
    {
     "data": {
      "text/plain": [
       "[Text(0.5, 1.0, 'Total Charges')]"
      ]
     },
     "execution_count": 60,
     "metadata": {},
     "output_type": "execute_result"
    },
    {
     "data": {
      "image/png": "[encoded data removed]",
      "text/plain": [
       "<Figure size 1200x500 with 3 Axes>"
      ]
     },
     "metadata": {},
     "output_type": "display_data"
    }
   ],
   "source": [
    "# definindo o tamanho das exibições gráficas\n",
    "plt.rcParams['figure.figsize'] = [12.00, 5.00]\n",
    "plt.rcParams['figure.autolayout'] = True\n",
    "\n",
    "# layout para as variáveis numéricas\n",
    "f, axes = plt.subplots(1, 3) # 1 linha e 3 colunas\n",
    "\n",
    "linha = 0\n",
    "coluna = 0\n",
    "\n",
    "'''\n",
    "exibindo a distribuição dos dados numéricos em forma de boxplot, a fim de conhecermos a distribuição matemática e \n",
    "identificar possíveis outliers\n",
    "'''\n",
    "# Coluna 'tenure'\n",
    "sns.boxplot(data = df['tenure'], ax = axes[0]).set(title = 'Tenure')\n",
    "\n",
    "# Coluna 'MonthlyCharges'\n",
    "sns.boxplot(data = df['MonthlyCharges'], ax = axes[1]).set(title = 'Monthly Charges')\n",
    "\n",
    "# Coluna 'MonthlyCharges'\n",
    "sns.boxplot(data = df['TotalCharges'], ax = axes[2]).set(title = 'Total Charges')"
   ]
  },
  {
   "cell_type": "code",
   "execution_count": 61,
   "id": "97e843d3",
   "metadata": {},
   "outputs": [
    {
     "data": {
      "text/plain": [
       "[Text(0.5, 1.0, 'Count by Multiple Lines'),\n",
       " Text(0.5, 0, 'Multiple Lines'),\n",
       " Text(0, 0.5, 'Count')]"
      ]
     },
     "execution_count": 61,
     "metadata": {},
     "output_type": "execute_result"
    },
    {
     "data": {
      "image/png": "[encoded data removed]",
      "text/plain": [
       "<Figure size 1200x500 with 1 Axes>"
      ]
     },
     "metadata": {},
     "output_type": "display_data"
    }
   ],
   "source": [
    "# definindo o tamanho das exibições gráficas\n",
    "plt.rcParams['figure.figsize'] = [12.00, 5.00]\n",
    "plt.rcParams['figure.autolayout'] = True\n",
    "\n",
    "# layout para as variáveis categóricas\n",
    "f, axes = plt.subplots(1, 1) # 1 linha e 1 coluna\n",
    "\n",
    "# Plotando gráficos em barras\n",
    "# Gender\n",
    "sns.barplot(x = df.gender.value_counts().index,\n",
    "            y = df.gender.value_counts()).set(title = 'Count by Gender', xlabel = 'Gender', ylabel = 'Count')\n",
    "\n",
    "# Partner\n",
    "sns.barplot(x = df.Partner.value_counts().index,\n",
    "            y = df.Partner.value_counts()).set(title = 'Count by Partner', xlabel = 'Partner', ylabel = 'Count')\n",
    "\n",
    "# Dependents\n",
    "sns.barplot(x = df.Dependents.value_counts().index,\n",
    "            y = df.Dependents.value_counts()).set(title = 'Count by Dependents', xlabel = 'Dependents', ylabel = 'Count')\n",
    "\n",
    "# Phone Service\n",
    "sns.barplot(x = df.PhoneService.value_counts().index,\n",
    "            y = df.PhoneService.value_counts()).set(title = 'Count by Phone Service', xlabel = 'Phone Service', ylabel = 'Count')\n",
    "\n",
    "# Multiple Lines\n",
    "sns.barplot(x = df.MultipleLines.value_counts().index,\n",
    "            y = df.MultipleLines.value_counts()).set(title = 'Count by Multiple Lines', xlabel = 'Multiple Lines', ylabel = 'Count')"
   ]
  },
  {
   "cell_type": "markdown",
   "id": "8c8009b3",
   "metadata": {},
   "source": [
    "### --------------------------------------------------------------------------------------------------------------------------------------------------------\n",
    "### Preparação dos dados para o treinamento do Modelo\n",
    "### --------------------------------------------------------------------------------------------------------------------------------------------------------"
   ]
  },
  {
   "cell_type": "code",
   "execution_count": 30,
   "id": "83c6103f",
   "metadata": {},
   "outputs": [],
   "source": [
    "# utilizando a função \"get_dummies\" do Pandas, para converter nossos dados categóricos em numéricos\n",
    "df_dummies = pd.get_dummies(df[['gender', 'Partner', 'Dependents', 'PhoneService', 'MultipleLines', 'InternetService', 'OnlineSecurity', 'OnlineBackup', 'DeviceProtection', 'TechSupport', 'StreamingTV', 'StreamingMovies', 'Contract', 'PaymentMethod']])\n",
    "\n",
    "# utilizando a função LabelEncoder na nossa variável target \n",
    "from sklearn.preprocessing import LabelEncoder\n",
    "le = LabelEncoder()\n",
    "\n",
    "le.fit(df['Churn']) # treinando o Label Encoder com a nossa variável target\n",
    "target = le.transform(df['Churn']) # convertendo os dados da variável target para um formato numérico\n",
    "\n",
    "# importando as bibliotecas do scikit learn\n",
    "from sklearn.model_selection import train_test_split # separa o dataset em treino e teste\n",
    "from sklearn.preprocessing import MinMaxScaler\n",
    "\n",
    "# separando nossos dados entre treino e teste\n",
    "X_treino, X_teste, y_treino, y_teste = train_test_split(df_dummies, target, test_size = 0.3, random_state = 40)\n",
    "\n",
    "# normalizando os dados, utilizando MinMaxScaler\n",
    "sc = MinMaxScaler()\n",
    "sc.fit(X_treino)\n",
    "X_treino_norm = sc.transform(X_treino)\n",
    "X_teste_norm = sc.transform(X_teste)"
   ]
  },
  {
   "cell_type": "markdown",
   "id": "0bb35360",
   "metadata": {},
   "source": [
    "### --------------------------------------------------------------------------------------------------------------------------------------------------------\n",
    "### Treinando o nosso modelo de classificação (Random Forest)\n",
    "### --------------------------------------------------------------------------------------------------------------------------------------------------------"
   ]
  },
  {
   "cell_type": "markdown",
   "id": "e937f10b",
   "metadata": {},
   "source": [
    "#### Algoritmo Random Forest (tunning com GridSearch)"
   ]
  },
  {
   "cell_type": "code",
   "execution_count": 32,
   "id": "08c281bf",
   "metadata": {},
   "outputs": [],
   "source": [
    "# importando o modelo\n",
    "from sklearn.ensemble import RandomForestClassifier\n",
    "from sklearn.model_selection import GridSearchCV\n",
    "\n",
    "# bibliotecas de suporte\n",
    "import numpy as np\n",
    "import time\n",
    "\n",
    "# declarando o modelo\n",
    "random_forest = RandomForestClassifier()\n",
    "\n",
    "# verificando os parâmetros do Random Forest\n",
    "random_forest.get_params()\n",
    "\n",
    "# definindo valores para o GridSearch\n",
    "n_estimators = np.array([100, 120, 160, 200])\n",
    "max_depth = np.array([10, 15])\n",
    "criterion = np.array(['gini', 'entropy'])\n",
    "max_features = np.array(['sqrt', 'log2', None])\n",
    "min_sample_split = np.array([2, 4, 5])\n",
    "min_samples_leaf = np.array([2, 3, 4])\n",
    "bootstrap = np.array(['True', 'False'])\n",
    "\n",
    "# definindo os parâmetros do GridSearch\n",
    "grid_params = dict(n_estimators = n_estimators,\n",
    "                  max_depth = max_depth,\n",
    "                  criterion = criterion,\n",
    "                  max_features = max_features,\n",
    "                  min_samples_split = min_sample_split,\n",
    "                  min_samples_leaf = min_samples_leaf,\n",
    "                  bootstrap = bootstrap)\n",
    "\n",
    "# definindo nosso modelo\n",
    "random_forest = GridSearchCV(random_forest, grid_params, cv = 4, n_jobs = 8)\n",
    "\n",
    "# treinando o modelo\n",
    "hora_inicio = time.time()\n",
    "random_forest.fit(X_treino_norm, y_treino)\n",
    "hora_fim = time.time()"
   ]
  },
  {
   "cell_type": "markdown",
   "id": "928f0eec",
   "metadata": {},
   "source": [
    "#### Verificando os desempenhos dos treinos do Random Forest"
   ]
  },
  {
   "cell_type": "code",
   "execution_count": 54,
   "id": "f448c00d",
   "metadata": {},
   "outputs": [
    {
     "name": "stdout",
     "output_type": "stream",
     "text": [
      "Resultados\n",
      "-----------------------------------------------------------------------------------\n",
      "Melhor acurácia obtida: \n",
      "79.21%\n",
      "\n",
      "Melhores hiperparâmetros: \n",
      "{'bootstrap': 'False', 'criterion': 'gini', 'max_depth': 15, 'max_features': 'sqrt', 'min_samples_leaf': 4, 'min_samples_split': 4, 'n_estimators': 100}\n",
      "\n",
      "Duração do treinamento:  387.82 segundos ou 6.46 minutos\n",
      "\n",
      "Treinos realizados:  864\n"
     ]
    }
   ],
   "source": [
    "# verificando os parâmetros treinados\n",
    "treinos_random_forest = pd.DataFrame(random_forest.cv_results_)\n",
    "\n",
    "# retornando os outputs dos treinamentos\n",
    "print('Resultados\\n-----------------------------------------------------------------------------------')\n",
    "print('Melhor acurácia obtida: \\n{:.2%}'.format(random_forest.best_score_))\n",
    "print('\\nMelhores hiperparâmetros: \\n{}'.format(random_forest.best_params_))\n",
    "print('\\nDuração do treinamento: ', round(hora_fim - hora_inicio, 2), 'segundos ou', round((hora_fim - hora_inicio) / 60, 2), 'minutos')\n",
    "print('\\nTreinos realizados: ', treinos_random_forest.shape[0])"
   ]
  }
 ],
 "metadata": {
  "kernelspec": {
   "display_name": "Python 3 (ipykernel)",
   "language": "python",
   "name": "python3"
  },
  "language_info": {
   "codemirror_mode": {
    "name": "ipython",
    "version": 3
   },
   "file_extension": ".py",
   "mimetype": "text/x-python",
   "name": "python",
   "nbconvert_exporter": "python",
   "pygments_lexer": "ipython3",
   "version": "3.9.13"
  }
 },
 "nbformat": 4,
 "nbformat_minor": 5
}
