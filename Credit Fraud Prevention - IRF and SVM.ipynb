{
 "cells": [
  {
   "cell_type": "markdown",
   "id": "5982616d",
   "metadata": {},
   "source": [
    "# This project is about the use Random Forest and SVM machine learning algorithms for the prevention of financial fraud"
   ]
  },
  {
   "cell_type": "code",
   "execution_count": null,
   "id": "f56dd1cd",
   "metadata": {},
   "outputs": [],
   "source": [
    "# Importing the libraries\n",
    "import pandas as pd # used to manipule DataFrames\n",
    "import numpy as np # used to do computational mathematics and manipule data\n",
    "import matplotlib.pyplot as plt # used to plot graphs\n",
    "import seaborn as sb # another option to graphs plotting\n",
    "import sklearn # a famous library to train machine learning models\n",
    "from sklearn.metrics import classification_report, accuracy_score # metrics to mensure the models performance\n",
    "import scipy # used to do science with python :D\n",
    "\n",
    "# Libraries to Detect Outliers\n",
    "from sklearn.ensemble import IsolationForest\n",
    "from sklearn.svm import OneClassSVM\n",
    "\n",
    "# Libraries to Split the Data\n",
    "from sklearn.model_selection import train_test_split"
   ]
  },
  {
   "cell_type": "code",
   "execution_count": null,
   "id": "4f0ffa5f",
   "metadata": {},
   "outputs": [],
   "source": [
    "# Reding the Credit Card File (containing credit card transactions)\n",
    "df = pd.read_csv(r'C:\\Users\\pedro\\OneDrive\\Área de Trabalho\\Geral\\Portfolio_Dados\\Estudos\\Credit Card Fraud Detection\\creditcard.csv', sep = ',')\n",
    "df.head() # printing the first five lines of the data"
   ]
  },
  {
   "cell_type": "code",
   "execution_count": null,
   "id": "5f1542bb",
   "metadata": {},
   "outputs": [],
   "source": [
    "# Verifying the Data\n",
    "\n",
    "# Searching for NAs\n",
    "df.isnull().sum() # The data haven't NAs"
   ]
  },
  {
   "cell_type": "code",
   "execution_count": null,
   "id": "944f2eae",
   "metadata": {},
   "outputs": [],
   "source": [
    "# Verifying the Classes\n",
    "fraud_class = pd.value_counts(df.Class, sort = True)\n",
    "fraud_class\n",
    "\n",
    "# Ploting the Classes Distribution\n",
    "plt.title('Classes Distribution') # defining the ploting title\n",
    "plt.xlabel('Class') # defining the X axis name\n",
    "plt.ylabel('Count') # defining the Y axis name\n",
    "fraud_class.plot(kind = 'bar', rot = 0, color = 'black') # ploting the classes dist"
   ]
  },
  {
   "cell_type": "code",
   "execution_count": null,
   "id": "92938de0",
   "metadata": {},
   "outputs": [],
   "source": [
    "fraudulent_transaction = df[df['Class'] == 1] # defining the fraudulent transactions\n",
    "legitimate_transaction = df[df['Class'] == 0] # defining the legitimate transactions\n",
    "\n",
    "print('Shape:\\n'f'Fraudulent: {fraudulent_transaction.shape}\\n', f'Legitimate: {legitimate_transaction.shape}')"
   ]
  },
  {
   "cell_type": "code",
   "execution_count": null,
   "id": "dfc5863d",
   "metadata": {},
   "outputs": [],
   "source": [
    "# Viewing the Statisticals Metrics of the Data\n",
    "fraudulent_transaction['Amount'].describe()\n",
    "legitimate_transaction['Amount'].describe()"
   ]
  },
  {
   "cell_type": "code",
   "execution_count": null,
   "id": "a1e8433d",
   "metadata": {},
   "outputs": [],
   "source": [
    "# Defining the Dependent and Independent Vars\n",
    "X = df.iloc[:, 0:30].values # Independent Var\n",
    "y = df.iloc[:, 30].values # Dependent Var"
   ]
  },
  {
   "cell_type": "code",
   "execution_count": null,
   "id": "ea43e4d2",
   "metadata": {},
   "outputs": [],
   "source": [
    "# Spliting Training and Test Data\n",
    "X_train, X_test, y_train, y_test = train_test_split(X, y, test_size = 0.3, random_state = 0)"
   ]
  },
  {
   "cell_type": "code",
   "execution_count": null,
   "id": "9e876972",
   "metadata": {},
   "outputs": [],
   "source": [
    "# Detecting Anomalies in the Data Using Isolation Forest (RFT for Outliers)\n",
    "iso_forest = IsolationForest(n_estimators = 100, max_samples = len(X_train), random_state = 0, verbose = 0) # Defining the Algorithm\n",
    "iso_forest.fit(X_train, y_train) # Training the Forest Model\n",
    "\n",
    "# Making prediction\n",
    "ypred = iso_forest.predict(X_test)\n",
    "ypred"
   ]
  },
  {
   "cell_type": "code",
   "execution_count": null,
   "id": "f19a12ed",
   "metadata": {},
   "outputs": [],
   "source": [
    "# Mapping the Output Values in Boolean\n",
    "ypred[ypred == 1] = 0\n",
    "ypred[ypred == -1] = 1"
   ]
  },
  {
   "cell_type": "code",
   "execution_count": null,
   "id": "8ab21fa7",
   "metadata": {},
   "outputs": [],
   "source": [
    "# Viewing the Model Perfomance\n",
    "print('Accuracy: \\n', accuracy_score(y_test, ypred)) # Model Accuracy Score\n",
    "print('\\n Group of Classification Metrics\\n', classification_report(y_test, ypred)) # Model Score Metric\n",
    "\n",
    "# Import Confusion Matrix from SkLearn Lib\n",
    "from sklearn.metrics import confusion_matrix\n",
    "print('\\nConfusion Matrix Result: \\n', confusion_matrix(y_test, ypred))"
   ]
  },
  {
   "cell_type": "code",
   "execution_count": null,
   "id": "d743eff7",
   "metadata": {},
   "outputs": [],
   "source": [
    "# Showing the Amount of Errors\n",
    "n_errors = (ypred != y_test).sum() # Variable Containing the Number of Errors\n",
    "print(f'The model have {n_errors} errors...')"
   ]
  },
  {
   "cell_type": "markdown",
   "id": "217c2c05",
   "metadata": {},
   "source": [
    "# Now, we will train the model using Support Vector Machines (OneClassSVM)"
   ]
  },
  {
   "cell_type": "code",
   "execution_count": null,
   "id": "b0d387c2",
   "metadata": {},
   "outputs": [],
   "source": [
    "# Training the Model Using Support Vector Machines (OneClassSVM)\n",
    "svm = OneClassSVM(kernel = 'rbf', degree = 1, gamma = 0.1, nu = 0.05)\n",
    "\n",
    "svm.fit(X_train, y_train) # Fitting the Model\n",
    "\n",
    "ypredSVM = svm.predict(X_test) # Making a prediction"
   ]
  },
  {
   "cell_type": "code",
   "execution_count": null,
   "id": "039623ca",
   "metadata": {},
   "outputs": [],
   "source": [
    "# Mapping the Output Values in Boolean\n",
    "ypredSVM[ypredSVM == 1] = 0\n",
    "ypredSVM[ypredSVM == -1] = 1"
   ]
  },
  {
   "cell_type": "code",
   "execution_count": null,
   "id": "2aec7a8b",
   "metadata": {},
   "outputs": [],
   "source": [
    "# Viewing the Model Perfomance\n",
    "print('Accuracy: \\n', accuracy_score(y_test, ypredSVM)) # Model Accuracy Score\n",
    "print('\\n Group of Classification Metrics\\n', classification_report(y_test, ypredSVM)) # Model Score Metric\n",
    "\n",
    "# Import Confusion Matrix from SkLearn Lib\n",
    "from sklearn.metrics import confusion_matrix\n",
    "print('\\nConfusion Matrix Result: \\n', confusion_matrix(y_test, ypredSVM))"
   ]
  },
  {
   "cell_type": "code",
   "execution_count": null,
   "id": "27183342",
   "metadata": {},
   "outputs": [],
   "source": [
    "# Showing the Amount of Errors\n",
    "n_errorsSVM = (ypredSVM != y_test).sum() # Variable Containing the Number of Errors\n",
    "print(f'The model have {n_errors} errors...')"
   ]
  }
 ],
 "metadata": {
  "kernelspec": {
   "display_name": "Python 3 (ipykernel)",
   "language": "python",
   "name": "python3"
  },
  "language_info": {
   "codemirror_mode": {
    "name": "ipython",
    "version": 3
   },
   "file_extension": ".py",
   "mimetype": "text/x-python",
   "name": "python",
   "nbconvert_exporter": "python",
   "pygments_lexer": "ipython3",
   "version": "3.9.13"
  }
 },
 "nbformat": 4,
 "nbformat_minor": 5
}
